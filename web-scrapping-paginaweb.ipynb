{
 "cells": [
  {
   "cell_type": "markdown",
   "id": "6aca5675-7c4b-4818-9861-00d76c9a906e",
   "metadata": {},
   "source": [
    "## Web scrapping "
   ]
  },
  {
   "cell_type": "markdown",
   "id": "3ea95fa7-78b6-418c-aac7-8f91ace45180",
   "metadata": {},
   "source": [
    "Web scrapping a una pagina web"
   ]
  },
  {
   "cell_type": "markdown",
   "id": "64058b80-7e15-480f-99b7-c903ef84b705",
   "metadata": {},
   "source": [
    "# Importaciones "
   ]
  },
  {
   "cell_type": "code",
   "execution_count": 1,
   "id": "40b26a48-3985-4292-a0a1-649fd0071761",
   "metadata": {},
   "outputs": [],
   "source": [
    "from selenium import webdriver\n",
    "from selenium.webdriver.common.by import By\n",
    "from selenium.common.exceptions import NoSuchElementException\n",
    "import pandas as pd"
   ]
  },
  {
   "cell_type": "code",
   "execution_count": 2,
   "id": "46f4fdd3-6ba8-4390-9ba3-0f745db53623",
   "metadata": {},
   "outputs": [],
   "source": [
    "driver = webdriver.Chrome()"
   ]
  },
  {
   "cell_type": "code",
   "execution_count": 3,
   "id": "be25d8b7-c9c1-4502-9f61-630e8dd17f21",
   "metadata": {},
   "outputs": [],
   "source": [
    "url = 'https://www.alkosto.com/search/?text=neveras'\n",
    "driver.get(url)"
   ]
  },
  {
   "cell_type": "markdown",
   "id": "22c56fc4-80fa-4758-82a9-052952910eb2",
   "metadata": {},
   "source": [
    "## Extracción"
   ]
  },
  {
   "cell_type": "code",
   "execution_count": null,
   "id": "355d7d83-91f7-42a0-8c6c-aa73e92dc4e1",
   "metadata": {},
   "outputs": [],
   "source": [
    "li_elements = driver.find_elements(By.CSS_SELECTOR, '#js-hits li')\n",
    "data = []\n",
    "print(len(li_elements))"
   ]
  },
  {
   "cell_type": "code",
   "execution_count": 5,
   "id": "848d0c17-ac61-4d53-9c9f-86b11a9b76c1",
   "metadata": {},
   "outputs": [],
   "source": [
    "for element in li_elements:\n",
    "    try:\n",
    "        titulo_element = element.find_element(By.TAG_NAME, 'h3')\n",
    "        precio_element = element.find_element(By.CLASS_NAME, 'price')\n",
    "        imagen_element = element.find_element(By.TAG_NAME, 'img').get_attribute('src')\n",
    "        data.append({\n",
    "            'Titulo': titulo_element.text,\n",
    "            'Precio': precio_element.text,\n",
    "            'Imagen': imagen_element\n",
    "        })\n",
    "    except NoSuchElementException:\n",
    "        pass\n"
   ]
  },
  {
   "cell_type": "markdown",
   "id": "56661377-907f-438a-940e-026074604b06",
   "metadata": {},
   "source": [
    "## Guardado de datos"
   ]
  },
  {
   "cell_type": "code",
   "execution_count": 6,
   "id": "630af5b1-cb11-4a94-a8c3-18c1357f305b",
   "metadata": {},
   "outputs": [],
   "source": [
    "df = pd.DataFrame(data)\n",
    "df.to_csv('neveras.csv')"
   ]
  },
  {
   "cell_type": "code",
   "execution_count": 7,
   "id": "34edecc9-9752-4eb2-b02c-25e5f3ff4338",
   "metadata": {},
   "outputs": [],
   "source": [
    "driver.quit()"
   ]
  },
  {
   "cell_type": "code",
   "execution_count": null,
   "id": "993e9bf1-fe19-4026-9bcf-d5ad85c912f9",
   "metadata": {},
   "outputs": [],
   "source": []
  }
 ],
 "metadata": {
  "kernelspec": {
   "display_name": "Python 3 (ipykernel)",
   "language": "python",
   "name": "python3"
  },
  "language_info": {
   "codemirror_mode": {
    "name": "ipython",
    "version": 3
   },
   "file_extension": ".py",
   "mimetype": "text/x-python",
   "name": "python",
   "nbconvert_exporter": "python",
   "pygments_lexer": "ipython3",
   "version": "3.12.4"
  }
 },
 "nbformat": 4,
 "nbformat_minor": 5
}
