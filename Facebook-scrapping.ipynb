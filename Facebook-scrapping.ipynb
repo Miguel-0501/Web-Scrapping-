{
 "cells": [
  {
   "cell_type": "markdown",
   "id": "fa243ba2-a3ac-405b-b885-3a8f3c3e081b",
   "metadata": {},
   "source": [
    "## Facebook Scrapping "
   ]
  },
  {
   "cell_type": "code",
   "execution_count": 31,
   "id": "a20f85fd-31e8-4009-8b27-19d3953e5ba1",
   "metadata": {},
   "outputs": [],
   "source": [
    "from selenium import webdriver\n",
    "from selenium.webdriver.common.by import By\n",
    "from selenium.common.exceptions import NoSuchElementException\n",
    "import pandas as pd"
   ]
  },
  {
   "cell_type": "markdown",
   "id": "160300ec-f4a0-4e74-8855-96caba3a44e9",
   "metadata": {},
   "source": [
    "# Accedemos al navegador"
   ]
  },
  {
   "cell_type": "code",
   "execution_count": 32,
   "id": "4d71379d-c259-4627-aff7-47cb9dc2a899",
   "metadata": {},
   "outputs": [],
   "source": [
    "driver = webdriver.Chrome()"
   ]
  },
  {
   "cell_type": "markdown",
   "id": "adf8911f-975c-4959-a5eb-274c03733244",
   "metadata": {},
   "source": [
    "# Abrimos la pagina web "
   ]
  },
  {
   "cell_type": "code",
   "execution_count": 33,
   "id": "052c91b3-17d8-4030-be1a-9686b4cf41a1",
   "metadata": {},
   "outputs": [],
   "source": [
    "driver.get(\"https://web.facebook.com/\")"
   ]
  },
  {
   "cell_type": "markdown",
   "id": "1dffd7e1-5ce8-41c7-94bb-9920a6e478c7",
   "metadata": {},
   "source": [
    "# Iniciamos Sesion"
   ]
  },
  {
   "cell_type": "code",
   "execution_count": 34,
   "id": "a821c718-e766-4b25-9cb5-0daa4f589ec2",
   "metadata": {},
   "outputs": [],
   "source": [
    "driver.find_element(By.XPATH,\"//input[contains(@id,'email')]\").send_keys(\"Michi_0501@hotmail.es\")\n",
    "driver.find_element(By.XPATH,\"//input[contains(@id,'pass')]\").send_keys(\"M!gue123\")\n",
    "driver.find_element(By.XPATH,\"//button[contains(@name,'login')]\").click()"
   ]
  },
  {
   "cell_type": "markdown",
   "id": "a1000768-6fef-4636-aef2-66c6881df3d5",
   "metadata": {},
   "source": [
    "# Entramos al grupo que vamos hacer scrapping"
   ]
  },
  {
   "cell_type": "code",
   "execution_count": 35,
   "id": "7b37658f-f6ff-492c-9279-352f1e1036df",
   "metadata": {},
   "outputs": [],
   "source": [
    "url = 'https://www.facebook.com/groups/2972719419686661'\n",
    "driver.get(url)"
   ]
  },
  {
   "cell_type": "markdown",
   "id": "7ce424b9-49c9-41e6-af4e-ac397cc792fa",
   "metadata": {},
   "source": [
    "# Extraccion"
   ]
  },
  {
   "cell_type": "code",
   "execution_count": 38,
   "id": "5def8dbf-a37c-48a5-8a2a-412e76a9655a",
   "metadata": {},
   "outputs": [],
   "source": [
    "div_elements = driver.find_elements(By.CLASS_NAME, 'x1yztbdb div')\n",
    "data = []"
   ]
  },
  {
   "cell_type": "code",
   "execution_count": 39,
   "id": "4e2cc301-506e-4a8e-86fd-2188690a5627",
   "metadata": {},
   "outputs": [
    {
     "ename": "StaleElementReferenceException",
     "evalue": "Message: stale element reference: stale element not found in the current frame\n  (Session info: chrome=129.0.6668.90); For documentation on this error, please visit: https://www.selenium.dev/documentation/webdriver/troubleshooting/errors#stale-element-reference-exception\nStacktrace:\n\tGetHandleVerifier [0x00007FF74502B645+29573]\n\t(No symbol) [0x00007FF744FA0470]\n\t(No symbol) [0x00007FF744E5B6EA]\n\t(No symbol) [0x00007FF744E622BE]\n\t(No symbol) [0x00007FF744E64637]\n\t(No symbol) [0x00007FF744E646F0]\n\t(No symbol) [0x00007FF744EA959B]\n\t(No symbol) [0x00007FF744ED72FA]\n\t(No symbol) [0x00007FF744EA2FF6]\n\t(No symbol) [0x00007FF744ED7510]\n\t(No symbol) [0x00007FF744EF86BC]\n\t(No symbol) [0x00007FF744ED70A3]\n\t(No symbol) [0x00007FF744EA12DF]\n\t(No symbol) [0x00007FF744EA2441]\n\tGetHandleVerifier [0x00007FF74535C58D+3375821]\n\tGetHandleVerifier [0x00007FF7453A7987+3684039]\n\tGetHandleVerifier [0x00007FF74539CDAB+3640043]\n\tGetHandleVerifier [0x00007FF7450EB7C6+816390]\n\t(No symbol) [0x00007FF744FAB77F]\n\t(No symbol) [0x00007FF744FA75A4]\n\t(No symbol) [0x00007FF744FA7740]\n\t(No symbol) [0x00007FF744F9659F]\n\tBaseThreadInitThunk [0x00007FF83790257D+29]\n\tRtlUserThreadStart [0x00007FF83912AF08+40]\n",
     "output_type": "error",
     "traceback": [
      "\u001b[1;31m---------------------------------------------------------------------------\u001b[0m",
      "\u001b[1;31mStaleElementReferenceException\u001b[0m            Traceback (most recent call last)",
      "Cell \u001b[1;32mIn[39], line 4\u001b[0m\n\u001b[0;32m      2\u001b[0m \u001b[38;5;28;01mtry\u001b[39;00m:\n\u001b[0;32m      3\u001b[0m     nombres_elements \u001b[38;5;241m=\u001b[39m element\u001b[38;5;241m.\u001b[39mfind_elements(By\u001b[38;5;241m.\u001b[39mXPATH, \u001b[38;5;124m'\u001b[39m\u001b[38;5;124m//span[contains(@class, \u001b[39m\u001b[38;5;124m\"\u001b[39m\u001b[38;5;124mhtml-span\u001b[39m\u001b[38;5;124m\"\u001b[39m\u001b[38;5;124m) and contains(@class, \u001b[39m\u001b[38;5;124m\"\u001b[39m\u001b[38;5;124mxdj266r\u001b[39m\u001b[38;5;124m\"\u001b[39m\u001b[38;5;124m)]\u001b[39m\u001b[38;5;124m'\u001b[39m)\n\u001b[1;32m----> 4\u001b[0m     nombre_text \u001b[38;5;241m=\u001b[39m \u001b[38;5;124m'\u001b[39m\u001b[38;5;124m \u001b[39m\u001b[38;5;124m'\u001b[39m\u001b[38;5;241m.\u001b[39mjoin([\u001b[43mnombre\u001b[49m\u001b[38;5;241;43m.\u001b[39;49m\u001b[43mtext\u001b[49m \u001b[38;5;28;01mfor\u001b[39;00m nombre \u001b[38;5;129;01min\u001b[39;00m nombres_elements])\n\u001b[0;32m      6\u001b[0m     texto_element \u001b[38;5;241m=\u001b[39m element\u001b[38;5;241m.\u001b[39mfind_element(By\u001b[38;5;241m.\u001b[39mXPATH, \u001b[38;5;124m'\u001b[39m\u001b[38;5;124m.//div[contains(@class, \u001b[39m\u001b[38;5;124m\"\u001b[39m\u001b[38;5;124mhtml-div\u001b[39m\u001b[38;5;124m\"\u001b[39m\u001b[38;5;124m) and contains(@class, \u001b[39m\u001b[38;5;124m\"\u001b[39m\u001b[38;5;124mxdj266r\u001b[39m\u001b[38;5;124m\"\u001b[39m\u001b[38;5;124m)]//div[@data-ad-preview=\u001b[39m\u001b[38;5;124m\"\u001b[39m\u001b[38;5;124mmessage\u001b[39m\u001b[38;5;124m\"\u001b[39m\u001b[38;5;124m]\u001b[39m\u001b[38;5;124m'\u001b[39m)\n\u001b[0;32m      7\u001b[0m     imagen_element \u001b[38;5;241m=\u001b[39m element\u001b[38;5;241m.\u001b[39mfind_element(By\u001b[38;5;241m.\u001b[39mTAG_NAME, \u001b[38;5;124m'\u001b[39m\u001b[38;5;124mimg\u001b[39m\u001b[38;5;124m'\u001b[39m)\u001b[38;5;241m.\u001b[39mget_attribute(\u001b[38;5;124m'\u001b[39m\u001b[38;5;124msrc\u001b[39m\u001b[38;5;124m'\u001b[39m)\n",
      "File \u001b[1;32m~\\Documents\\Scrapping\\env\\Lib\\site-packages\\selenium\\webdriver\\remote\\webelement.py:90\u001b[0m, in \u001b[0;36mWebElement.text\u001b[1;34m(self)\u001b[0m\n\u001b[0;32m     87\u001b[0m \u001b[38;5;129m@property\u001b[39m\n\u001b[0;32m     88\u001b[0m \u001b[38;5;28;01mdef\u001b[39;00m \u001b[38;5;21mtext\u001b[39m(\u001b[38;5;28mself\u001b[39m) \u001b[38;5;241m-\u001b[39m\u001b[38;5;241m>\u001b[39m \u001b[38;5;28mstr\u001b[39m:\n\u001b[0;32m     89\u001b[0m \u001b[38;5;250m    \u001b[39m\u001b[38;5;124;03m\"\"\"The text of the element.\"\"\"\u001b[39;00m\n\u001b[1;32m---> 90\u001b[0m     \u001b[38;5;28;01mreturn\u001b[39;00m \u001b[38;5;28;43mself\u001b[39;49m\u001b[38;5;241;43m.\u001b[39;49m\u001b[43m_execute\u001b[49m\u001b[43m(\u001b[49m\u001b[43mCommand\u001b[49m\u001b[38;5;241;43m.\u001b[39;49m\u001b[43mGET_ELEMENT_TEXT\u001b[49m\u001b[43m)\u001b[49m[\u001b[38;5;124m\"\u001b[39m\u001b[38;5;124mvalue\u001b[39m\u001b[38;5;124m\"\u001b[39m]\n",
      "File \u001b[1;32m~\\Documents\\Scrapping\\env\\Lib\\site-packages\\selenium\\webdriver\\remote\\webelement.py:395\u001b[0m, in \u001b[0;36mWebElement._execute\u001b[1;34m(self, command, params)\u001b[0m\n\u001b[0;32m    393\u001b[0m     params \u001b[38;5;241m=\u001b[39m {}\n\u001b[0;32m    394\u001b[0m params[\u001b[38;5;124m\"\u001b[39m\u001b[38;5;124mid\u001b[39m\u001b[38;5;124m\"\u001b[39m] \u001b[38;5;241m=\u001b[39m \u001b[38;5;28mself\u001b[39m\u001b[38;5;241m.\u001b[39m_id\n\u001b[1;32m--> 395\u001b[0m \u001b[38;5;28;01mreturn\u001b[39;00m \u001b[38;5;28;43mself\u001b[39;49m\u001b[38;5;241;43m.\u001b[39;49m\u001b[43m_parent\u001b[49m\u001b[38;5;241;43m.\u001b[39;49m\u001b[43mexecute\u001b[49m\u001b[43m(\u001b[49m\u001b[43mcommand\u001b[49m\u001b[43m,\u001b[49m\u001b[43m \u001b[49m\u001b[43mparams\u001b[49m\u001b[43m)\u001b[49m\n",
      "File \u001b[1;32m~\\Documents\\Scrapping\\env\\Lib\\site-packages\\selenium\\webdriver\\remote\\webdriver.py:354\u001b[0m, in \u001b[0;36mWebDriver.execute\u001b[1;34m(self, driver_command, params)\u001b[0m\n\u001b[0;32m    352\u001b[0m response \u001b[38;5;241m=\u001b[39m \u001b[38;5;28mself\u001b[39m\u001b[38;5;241m.\u001b[39mcommand_executor\u001b[38;5;241m.\u001b[39mexecute(driver_command, params)\n\u001b[0;32m    353\u001b[0m \u001b[38;5;28;01mif\u001b[39;00m response:\n\u001b[1;32m--> 354\u001b[0m     \u001b[38;5;28;43mself\u001b[39;49m\u001b[38;5;241;43m.\u001b[39;49m\u001b[43merror_handler\u001b[49m\u001b[38;5;241;43m.\u001b[39;49m\u001b[43mcheck_response\u001b[49m\u001b[43m(\u001b[49m\u001b[43mresponse\u001b[49m\u001b[43m)\u001b[49m\n\u001b[0;32m    355\u001b[0m     response[\u001b[38;5;124m\"\u001b[39m\u001b[38;5;124mvalue\u001b[39m\u001b[38;5;124m\"\u001b[39m] \u001b[38;5;241m=\u001b[39m \u001b[38;5;28mself\u001b[39m\u001b[38;5;241m.\u001b[39m_unwrap_value(response\u001b[38;5;241m.\u001b[39mget(\u001b[38;5;124m\"\u001b[39m\u001b[38;5;124mvalue\u001b[39m\u001b[38;5;124m\"\u001b[39m, \u001b[38;5;28;01mNone\u001b[39;00m))\n\u001b[0;32m    356\u001b[0m     \u001b[38;5;28;01mreturn\u001b[39;00m response\n",
      "File \u001b[1;32m~\\Documents\\Scrapping\\env\\Lib\\site-packages\\selenium\\webdriver\\remote\\errorhandler.py:229\u001b[0m, in \u001b[0;36mErrorHandler.check_response\u001b[1;34m(self, response)\u001b[0m\n\u001b[0;32m    227\u001b[0m         alert_text \u001b[38;5;241m=\u001b[39m value[\u001b[38;5;124m\"\u001b[39m\u001b[38;5;124malert\u001b[39m\u001b[38;5;124m\"\u001b[39m]\u001b[38;5;241m.\u001b[39mget(\u001b[38;5;124m\"\u001b[39m\u001b[38;5;124mtext\u001b[39m\u001b[38;5;124m\"\u001b[39m)\n\u001b[0;32m    228\u001b[0m     \u001b[38;5;28;01mraise\u001b[39;00m exception_class(message, screen, stacktrace, alert_text)  \u001b[38;5;66;03m# type: ignore[call-arg]  # mypy is not smart enough here\u001b[39;00m\n\u001b[1;32m--> 229\u001b[0m \u001b[38;5;28;01mraise\u001b[39;00m exception_class(message, screen, stacktrace)\n",
      "\u001b[1;31mStaleElementReferenceException\u001b[0m: Message: stale element reference: stale element not found in the current frame\n  (Session info: chrome=129.0.6668.90); For documentation on this error, please visit: https://www.selenium.dev/documentation/webdriver/troubleshooting/errors#stale-element-reference-exception\nStacktrace:\n\tGetHandleVerifier [0x00007FF74502B645+29573]\n\t(No symbol) [0x00007FF744FA0470]\n\t(No symbol) [0x00007FF744E5B6EA]\n\t(No symbol) [0x00007FF744E622BE]\n\t(No symbol) [0x00007FF744E64637]\n\t(No symbol) [0x00007FF744E646F0]\n\t(No symbol) [0x00007FF744EA959B]\n\t(No symbol) [0x00007FF744ED72FA]\n\t(No symbol) [0x00007FF744EA2FF6]\n\t(No symbol) [0x00007FF744ED7510]\n\t(No symbol) [0x00007FF744EF86BC]\n\t(No symbol) [0x00007FF744ED70A3]\n\t(No symbol) [0x00007FF744EA12DF]\n\t(No symbol) [0x00007FF744EA2441]\n\tGetHandleVerifier [0x00007FF74535C58D+3375821]\n\tGetHandleVerifier [0x00007FF7453A7987+3684039]\n\tGetHandleVerifier [0x00007FF74539CDAB+3640043]\n\tGetHandleVerifier [0x00007FF7450EB7C6+816390]\n\t(No symbol) [0x00007FF744FAB77F]\n\t(No symbol) [0x00007FF744FA75A4]\n\t(No symbol) [0x00007FF744FA7740]\n\t(No symbol) [0x00007FF744F9659F]\n\tBaseThreadInitThunk [0x00007FF83790257D+29]\n\tRtlUserThreadStart [0x00007FF83912AF08+40]\n"
     ]
    }
   ],
   "source": [
    "for element in div_elements:\n",
    "    try:\n",
    "        nombres_elements = element.find_elements(By.XPATH, '//span[contains(@class, \"html-span\") and contains(@class, \"xdj266r\")]')\n",
    "        nombre_text = ' '.join([nombre.text for nombre in nombres_elements])\n",
    "        \n",
    "        texto_element = element.find_element(By.XPATH, './/div[contains(@class, \"html-div\") and contains(@class, \"xdj266r\")]//div[@data-ad-preview=\"message\"]')\n",
    "        imagen_element = element.find_element(By.TAG_NAME, 'img').get_attribute('src')\n",
    "        \n",
    "        data.append({\n",
    "            'Nombre': nombre_text,\n",
    "            'Texto': texto_element.text,\n",
    "            'Imagen': imagen_element\n",
    "        })\n",
    "    except NoSuchElementException:\n",
    "        pass"
   ]
  },
  {
   "cell_type": "markdown",
   "id": "56734254-e5fa-42eb-92bc-7654bb91c66c",
   "metadata": {},
   "source": [
    "# Guardado de datos"
   ]
  },
  {
   "cell_type": "code",
   "execution_count": 29,
   "id": "210d37b7-bc01-44b7-ab20-fb5197931c20",
   "metadata": {},
   "outputs": [],
   "source": [
    "if data:\n",
    "    df = pd.DataFrame(data)\n",
    "    df.to_csv('posts_cumpleaños.csv', index=False, encoding='utf-8')\n",
    "else:\n",
    "    print(\"No hay datos para guardar.\")"
   ]
  },
  {
   "cell_type": "code",
   "execution_count": 40,
   "id": "cbf3a6f4-3898-4b6f-aacc-00c76180b0cc",
   "metadata": {},
   "outputs": [],
   "source": [
    "driver.quit()"
   ]
  },
  {
   "cell_type": "code",
   "execution_count": null,
   "id": "970e1f49-ea19-4578-994a-15365f4ae45f",
   "metadata": {},
   "outputs": [],
   "source": []
  }
 ],
 "metadata": {
  "kernelspec": {
   "display_name": "Python 3 (ipykernel)",
   "language": "python",
   "name": "python3"
  },
  "language_info": {
   "codemirror_mode": {
    "name": "ipython",
    "version": 3
   },
   "file_extension": ".py",
   "mimetype": "text/x-python",
   "name": "python",
   "nbconvert_exporter": "python",
   "pygments_lexer": "ipython3",
   "version": "3.12.4"
  }
 },
 "nbformat": 4,
 "nbformat_minor": 5
}
