{
 "cells": [
  {
   "cell_type": "markdown",
   "id": "fa243ba2-a3ac-405b-b885-3a8f3c3e081b",
   "metadata": {},
   "source": [
    "## Facebook Scrapping "
   ]
  },
  {
   "cell_type": "code",
   "execution_count": 1,
   "id": "a20f85fd-31e8-4009-8b27-19d3953e5ba1",
   "metadata": {},
   "outputs": [],
   "source": [
    "from selenium import webdriver\n",
    "from selenium.webdriver.common.by import By\n",
    "from selenium.common.exceptions import NoSuchElementException\n",
    "import pandas as pd"
   ]
  },
  {
   "cell_type": "markdown",
   "id": "160300ec-f4a0-4e74-8855-96caba3a44e9",
   "metadata": {},
   "source": [
    "# Accedemos al navegador"
   ]
  },
  {
   "cell_type": "code",
   "execution_count": 2,
   "id": "4d71379d-c259-4627-aff7-47cb9dc2a899",
   "metadata": {},
   "outputs": [],
   "source": [
    "driver = webdriver.Chrome()"
   ]
  },
  {
   "cell_type": "markdown",
   "id": "adf8911f-975c-4959-a5eb-274c03733244",
   "metadata": {},
   "source": [
    "# Abrimos la pagina web "
   ]
  },
  {
   "cell_type": "code",
   "execution_count": 3,
   "id": "052c91b3-17d8-4030-be1a-9686b4cf41a1",
   "metadata": {},
   "outputs": [],
   "source": [
    "driver.get(\"https://web.facebook.com/\")"
   ]
  },
  {
   "cell_type": "markdown",
   "id": "1dffd7e1-5ce8-41c7-94bb-9920a6e478c7",
   "metadata": {},
   "source": [
    "# Iniciamos Sesion"
   ]
  },
  {
   "cell_type": "code",
   "execution_count": 4,
   "id": "a821c718-e766-4b25-9cb5-0daa4f589ec2",
   "metadata": {},
   "outputs": [],
   "source": [
    "driver.find_element(By.XPATH,\"//input[contains(@id,'email')]\").send_keys(\"Michi_0501@hotmail.es\")\n",
    "driver.find_element(By.XPATH,\"//input[contains(@id,'pass')]\").send_keys(\"Mich!vz0501\")\n",
    "driver.find_element(By.XPATH,\"//button[contains(@name,'login')]\").click()"
   ]
  },
  {
   "cell_type": "markdown",
   "id": "a1000768-6fef-4636-aef2-66c6881df3d5",
   "metadata": {},
   "source": [
    "# Entramos al grupo que vamos hacer scrapping"
   ]
  },
  {
   "cell_type": "code",
   "execution_count": 5,
   "id": "7b37658f-f6ff-492c-9279-352f1e1036df",
   "metadata": {},
   "outputs": [],
   "source": [
    "url = 'https://www.facebook.com/groups/2972719419686661'\n",
    "driver.get(url)"
   ]
  },
  {
   "cell_type": "markdown",
   "id": "7ce424b9-49c9-41e6-af4e-ac397cc792fa",
   "metadata": {},
   "source": [
    "# Extraccion"
   ]
  },
  {
   "cell_type": "code",
   "execution_count": 9,
   "id": "5def8dbf-a37c-48a5-8a2a-412e76a9655a",
   "metadata": {},
   "outputs": [],
   "source": [
    "div_elements = driver.find_elements(By.CLASS_NAME, 'x1yztbdb div')\n",
    "data = []"
   ]
  },
  {
   "cell_type": "code",
   "execution_count": 12,
   "id": "4e2cc301-506e-4a8e-86fd-2188690a5627",
   "metadata": {},
   "outputs": [
    {
     "ename": "SyntaxError",
     "evalue": "expected ':' (952958275.py, line 11)",
     "output_type": "error",
     "traceback": [
      "\u001b[1;36m  Cell \u001b[1;32mIn[12], line 11\u001b[1;36m\u001b[0m\n\u001b[1;33m    except NoSuchElementException\u001b[0m\n\u001b[1;37m                                 ^\u001b[0m\n\u001b[1;31mSyntaxError\u001b[0m\u001b[1;31m:\u001b[0m expected ':'\n"
     ]
    }
   ],
   "source": [
    "for element in div_elements:\n",
    "    try: \n",
    "        nombres_element = driver.find_elements(By.XPATH, '//span[contains(@class, \"html-span\") and contains(@class, \"xdj266r\")]')\n",
    "        texto_element = element.find_element(By.XPATH, '//div[contains(@class, \"html-div\") and contains(@class, \"xdj266r\")]//div[@data-ad-preview=\"message\"]')\n",
    "        imagen_element = element.find_element(By.TAG_NAME, 'img').get_attribute('src')\n",
    "        data.append({\n",
    "            'Nombre': nombres_element.text,\n",
    "            'Texto': texto_element.text,\n",
    "            'Imagen': imagen_element\n",
    "        })\n",
    "    except NoSuchElementException:\n",
    "        pass\n",
    "\n",
    "print(len(nombres_element))"
   ]
  },
  {
   "cell_type": "code",
   "execution_count": null,
   "id": "038c9476-bfbe-4581-b275-9e571651433e",
   "metadata": {},
   "outputs": [],
   "source": []
  }
 ],
 "metadata": {
  "kernelspec": {
   "display_name": "Python 3 (ipykernel)",
   "language": "python",
   "name": "python3"
  },
  "language_info": {
   "codemirror_mode": {
    "name": "ipython",
    "version": 3
   },
   "file_extension": ".py",
   "mimetype": "text/x-python",
   "name": "python",
   "nbconvert_exporter": "python",
   "pygments_lexer": "ipython3",
   "version": "3.12.4"
  }
 },
 "nbformat": 4,
 "nbformat_minor": 5
}
