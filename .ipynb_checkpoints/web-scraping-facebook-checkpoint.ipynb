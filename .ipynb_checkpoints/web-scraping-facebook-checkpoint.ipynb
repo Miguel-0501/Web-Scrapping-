{
 "cells": [
  {
   "cell_type": "markdown",
   "id": "7b2b83e0-6989-405c-925d-3cdf85a847cf",
   "metadata": {},
   "source": [
    "## Web scrapping a Facebook"
   ]
  },
  {
   "cell_type": "markdown",
   "id": "e8745b28-5e55-4a21-a8c3-2fc83aa93b72",
   "metadata": {},
   "source": [
    "Web Scrapping a un grupo de facebook"
   ]
  },
  {
   "cell_type": "markdown",
   "id": "ee52bfaf-36a8-40a9-b5a2-6163ecebf63e",
   "metadata": {},
   "source": [
    "# Importaciones "
   ]
  },
  {
   "cell_type": "code",
   "execution_count": 58,
   "id": "43e4dddd-cc59-4280-9d3d-40b9c79e862e",
   "metadata": {},
   "outputs": [],
   "source": [
    "from selenium import webdriver\n",
    "from selenium.webdriver.common.by import By\n",
    "from selenium.common.exceptions import NoSuchElementException\n",
    "import pandas as pd"
   ]
  },
  {
   "cell_type": "markdown",
   "id": "02a66c89-6313-408e-ab33-88cbf72d0dfc",
   "metadata": {},
   "source": [
    "Accedemos al navegador Chrome"
   ]
  },
  {
   "cell_type": "code",
   "execution_count": 59,
   "id": "929140e4-243a-4d9a-993b-4336efe2d245",
   "metadata": {},
   "outputs": [],
   "source": [
    "driver = webdriver.Chrome()"
   ]
  },
  {
   "cell_type": "markdown",
   "id": "edc5569a-ce24-4149-ab97-ff928b80867f",
   "metadata": {},
   "source": [
    "Agregamos el url de facebook"
   ]
  },
  {
   "cell_type": "code",
   "execution_count": 60,
   "id": "4b0fd9af-db39-4890-973a-9b2e1033d371",
   "metadata": {},
   "outputs": [],
   "source": [
    "driver.get(\"https://web.facebook.com/\")"
   ]
  },
  {
   "cell_type": "markdown",
   "id": "3a766727-5338-4447-a810-6b42dae007eb",
   "metadata": {},
   "source": [
    "Iniciamos sesion en facebook"
   ]
  },
  {
   "cell_type": "code",
   "execution_count": 61,
   "id": "5a62aeff-3cff-4591-851a-017940c535aa",
   "metadata": {},
   "outputs": [],
   "source": [
    "driver.find_element(By.XPATH,\"//input[contains(@id,'email')]\").send_keys(\"Michi_0501@hotmail.es\")\n",
    "driver.find_element(By.XPATH,\"//input[contains(@id,'pass')]\").send_keys(\"Mich!vz0501\")\n",
    "driver.find_element(By.XPATH,\"//button[contains(@name,'login')]\").click()"
   ]
  },
  {
   "cell_type": "markdown",
   "id": "0879e593-fc0f-4cc6-bce8-0bddb3f2b15a",
   "metadata": {},
   "source": [
    "Ya que iniciamos sesion entramos al grupo donde se hace en web scrapping"
   ]
  },
  {
   "cell_type": "code",
   "execution_count": 62,
   "id": "c768aa82-01da-4439-903a-705afa147a49",
   "metadata": {},
   "outputs": [],
   "source": [
    "url = 'https://www.facebook.com/groups/2972719419686661'\n",
    "driver.get(url)"
   ]
  },
  {
   "cell_type": "markdown",
   "id": "a04787b6-aeec-4c3d-9c6a-64bfd8dbbc4e",
   "metadata": {},
   "source": [
    "## Extracción"
   ]
  },
  {
   "cell_type": "code",
   "execution_count": 63,
   "id": "0bb6c138-6a11-4264-b9b7-47516bb4ea9a",
   "metadata": {},
   "outputs": [],
   "source": [
    "div_elements = driver.find_elements(By.CLASS_NAME, 'x1yztbdb div')\n",
    "data = []"
   ]
  },
  {
   "cell_type": "markdown",
   "id": "e53eec00-2d06-494e-95db-e6c20dfe63fb",
   "metadata": {},
   "source": [
    "# Lista de palabras a filtrar"
   ]
  },
  {
   "cell_type": "code",
   "execution_count": 65,
   "id": "958310d2-2324-463f-b05f-c4e999178b42",
   "metadata": {},
   "outputs": [],
   "source": [
    "palabras_filtro = [\"feliz\", \"felicidades\", \"cumple\", \"cumpleaños\", \"felicitaciones\"]"
   ]
  },
  {
   "cell_type": "code",
   "execution_count": 68,
   "id": "4a54387c-e036-40f5-9830-76ba5b72328d",
   "metadata": {},
   "outputs": [
    {
     "ename": "StaleElementReferenceException",
     "evalue": "Message: stale element reference: stale element not found in the current frame\n  (Session info: chrome=129.0.6668.90); For documentation on this error, please visit: https://www.selenium.dev/documentation/webdriver/troubleshooting/errors#stale-element-reference-exception\nStacktrace:\n\tGetHandleVerifier [0x00007FF79700B645+29573]\n\t(No symbol) [0x00007FF796F80470]\n\t(No symbol) [0x00007FF796E3B6EA]\n\t(No symbol) [0x00007FF796E422BE]\n\t(No symbol) [0x00007FF796E44637]\n\t(No symbol) [0x00007FF796E446F0]\n\t(No symbol) [0x00007FF796E8F38F]\n\t(No symbol) [0x00007FF796E8FA6C]\n\t(No symbol) [0x00007FF796E8312C]\n\t(No symbol) [0x00007FF796EB733F]\n\t(No symbol) [0x00007FF796E82FF6]\n\t(No symbol) [0x00007FF796EB7510]\n\t(No symbol) [0x00007FF796ED86BC]\n\t(No symbol) [0x00007FF796EB70A3]\n\t(No symbol) [0x00007FF796E812DF]\n\t(No symbol) [0x00007FF796E82441]\n\tGetHandleVerifier [0x00007FF79733C58D+3375821]\n\tGetHandleVerifier [0x00007FF797387987+3684039]\n\tGetHandleVerifier [0x00007FF79737CDAB+3640043]\n\tGetHandleVerifier [0x00007FF7970CB7C6+816390]\n\t(No symbol) [0x00007FF796F8B77F]\n\t(No symbol) [0x00007FF796F875A4]\n\t(No symbol) [0x00007FF796F87740]\n\t(No symbol) [0x00007FF796F7659F]\n\tBaseThreadInitThunk [0x00007FF83790257D+29]\n\tRtlUserThreadStart [0x00007FF83912AF08+40]\n",
     "output_type": "error",
     "traceback": [
      "\u001b[1;31m---------------------------------------------------------------------------\u001b[0m",
      "\u001b[1;31mStaleElementReferenceException\u001b[0m            Traceback (most recent call last)",
      "Cell \u001b[1;32mIn[68], line 3\u001b[0m\n\u001b[0;32m      1\u001b[0m \u001b[38;5;28;01mfor\u001b[39;00m element \u001b[38;5;129;01min\u001b[39;00m div_elements:\n\u001b[0;32m      2\u001b[0m     \u001b[38;5;28;01mtry\u001b[39;00m:\n\u001b[1;32m----> 3\u001b[0m         nombre_element \u001b[38;5;241m=\u001b[39m \u001b[43melement\u001b[49m\u001b[38;5;241;43m.\u001b[39;49m\u001b[43mfind_element\u001b[49m\u001b[43m(\u001b[49m\u001b[43mBy\u001b[49m\u001b[38;5;241;43m.\u001b[39;49m\u001b[43mCLASS_NAME\u001b[49m\u001b[43m,\u001b[49m\u001b[43m \u001b[49m\u001b[38;5;124;43m'\u001b[39;49m\u001b[38;5;124;43mhtml-span\u001b[39;49m\u001b[38;5;124;43m'\u001b[39;49m\u001b[43m)\u001b[49m\n\u001b[0;32m      4\u001b[0m         texto_element \u001b[38;5;241m=\u001b[39m element\u001b[38;5;241m.\u001b[39mfind_element(By\u001b[38;5;241m.\u001b[39mID, \u001b[38;5;124m'\u001b[39m\u001b[38;5;124m:r1pk\u001b[39m\u001b[38;5;124m'\u001b[39m)\n\u001b[0;32m      5\u001b[0m         fecha_element \u001b[38;5;241m=\u001b[39m element\u001b[38;5;241m.\u001b[39mfind_element(By\u001b[38;5;241m.\u001b[39mID, \u001b[38;5;124m'\u001b[39m\u001b[38;5;124mripj\u001b[39m\u001b[38;5;124m'\u001b[39m)\n",
      "File \u001b[1;32m~\\Documents\\Scrapping\\env\\Lib\\site-packages\\selenium\\webdriver\\remote\\webelement.py:417\u001b[0m, in \u001b[0;36mWebElement.find_element\u001b[1;34m(self, by, value)\u001b[0m\n\u001b[0;32m    414\u001b[0m     by \u001b[38;5;241m=\u001b[39m By\u001b[38;5;241m.\u001b[39mCSS_SELECTOR\n\u001b[0;32m    415\u001b[0m     value \u001b[38;5;241m=\u001b[39m \u001b[38;5;124mf\u001b[39m\u001b[38;5;124m'\u001b[39m\u001b[38;5;124m[name=\u001b[39m\u001b[38;5;124m\"\u001b[39m\u001b[38;5;132;01m{\u001b[39;00mvalue\u001b[38;5;132;01m}\u001b[39;00m\u001b[38;5;124m\"\u001b[39m\u001b[38;5;124m]\u001b[39m\u001b[38;5;124m'\u001b[39m\n\u001b[1;32m--> 417\u001b[0m \u001b[38;5;28;01mreturn\u001b[39;00m \u001b[38;5;28;43mself\u001b[39;49m\u001b[38;5;241;43m.\u001b[39;49m\u001b[43m_execute\u001b[49m\u001b[43m(\u001b[49m\u001b[43mCommand\u001b[49m\u001b[38;5;241;43m.\u001b[39;49m\u001b[43mFIND_CHILD_ELEMENT\u001b[49m\u001b[43m,\u001b[49m\u001b[43m \u001b[49m\u001b[43m{\u001b[49m\u001b[38;5;124;43m\"\u001b[39;49m\u001b[38;5;124;43musing\u001b[39;49m\u001b[38;5;124;43m\"\u001b[39;49m\u001b[43m:\u001b[49m\u001b[43m \u001b[49m\u001b[43mby\u001b[49m\u001b[43m,\u001b[49m\u001b[43m \u001b[49m\u001b[38;5;124;43m\"\u001b[39;49m\u001b[38;5;124;43mvalue\u001b[39;49m\u001b[38;5;124;43m\"\u001b[39;49m\u001b[43m:\u001b[49m\u001b[43m \u001b[49m\u001b[43mvalue\u001b[49m\u001b[43m}\u001b[49m\u001b[43m)\u001b[49m[\u001b[38;5;124m\"\u001b[39m\u001b[38;5;124mvalue\u001b[39m\u001b[38;5;124m\"\u001b[39m]\n",
      "File \u001b[1;32m~\\Documents\\Scrapping\\env\\Lib\\site-packages\\selenium\\webdriver\\remote\\webelement.py:395\u001b[0m, in \u001b[0;36mWebElement._execute\u001b[1;34m(self, command, params)\u001b[0m\n\u001b[0;32m    393\u001b[0m     params \u001b[38;5;241m=\u001b[39m {}\n\u001b[0;32m    394\u001b[0m params[\u001b[38;5;124m\"\u001b[39m\u001b[38;5;124mid\u001b[39m\u001b[38;5;124m\"\u001b[39m] \u001b[38;5;241m=\u001b[39m \u001b[38;5;28mself\u001b[39m\u001b[38;5;241m.\u001b[39m_id\n\u001b[1;32m--> 395\u001b[0m \u001b[38;5;28;01mreturn\u001b[39;00m \u001b[38;5;28;43mself\u001b[39;49m\u001b[38;5;241;43m.\u001b[39;49m\u001b[43m_parent\u001b[49m\u001b[38;5;241;43m.\u001b[39;49m\u001b[43mexecute\u001b[49m\u001b[43m(\u001b[49m\u001b[43mcommand\u001b[49m\u001b[43m,\u001b[49m\u001b[43m \u001b[49m\u001b[43mparams\u001b[49m\u001b[43m)\u001b[49m\n",
      "File \u001b[1;32m~\\Documents\\Scrapping\\env\\Lib\\site-packages\\selenium\\webdriver\\remote\\webdriver.py:354\u001b[0m, in \u001b[0;36mWebDriver.execute\u001b[1;34m(self, driver_command, params)\u001b[0m\n\u001b[0;32m    352\u001b[0m response \u001b[38;5;241m=\u001b[39m \u001b[38;5;28mself\u001b[39m\u001b[38;5;241m.\u001b[39mcommand_executor\u001b[38;5;241m.\u001b[39mexecute(driver_command, params)\n\u001b[0;32m    353\u001b[0m \u001b[38;5;28;01mif\u001b[39;00m response:\n\u001b[1;32m--> 354\u001b[0m     \u001b[38;5;28;43mself\u001b[39;49m\u001b[38;5;241;43m.\u001b[39;49m\u001b[43merror_handler\u001b[49m\u001b[38;5;241;43m.\u001b[39;49m\u001b[43mcheck_response\u001b[49m\u001b[43m(\u001b[49m\u001b[43mresponse\u001b[49m\u001b[43m)\u001b[49m\n\u001b[0;32m    355\u001b[0m     response[\u001b[38;5;124m\"\u001b[39m\u001b[38;5;124mvalue\u001b[39m\u001b[38;5;124m\"\u001b[39m] \u001b[38;5;241m=\u001b[39m \u001b[38;5;28mself\u001b[39m\u001b[38;5;241m.\u001b[39m_unwrap_value(response\u001b[38;5;241m.\u001b[39mget(\u001b[38;5;124m\"\u001b[39m\u001b[38;5;124mvalue\u001b[39m\u001b[38;5;124m\"\u001b[39m, \u001b[38;5;28;01mNone\u001b[39;00m))\n\u001b[0;32m    356\u001b[0m     \u001b[38;5;28;01mreturn\u001b[39;00m response\n",
      "File \u001b[1;32m~\\Documents\\Scrapping\\env\\Lib\\site-packages\\selenium\\webdriver\\remote\\errorhandler.py:229\u001b[0m, in \u001b[0;36mErrorHandler.check_response\u001b[1;34m(self, response)\u001b[0m\n\u001b[0;32m    227\u001b[0m         alert_text \u001b[38;5;241m=\u001b[39m value[\u001b[38;5;124m\"\u001b[39m\u001b[38;5;124malert\u001b[39m\u001b[38;5;124m\"\u001b[39m]\u001b[38;5;241m.\u001b[39mget(\u001b[38;5;124m\"\u001b[39m\u001b[38;5;124mtext\u001b[39m\u001b[38;5;124m\"\u001b[39m)\n\u001b[0;32m    228\u001b[0m     \u001b[38;5;28;01mraise\u001b[39;00m exception_class(message, screen, stacktrace, alert_text)  \u001b[38;5;66;03m# type: ignore[call-arg]  # mypy is not smart enough here\u001b[39;00m\n\u001b[1;32m--> 229\u001b[0m \u001b[38;5;28;01mraise\u001b[39;00m exception_class(message, screen, stacktrace)\n",
      "\u001b[1;31mStaleElementReferenceException\u001b[0m: Message: stale element reference: stale element not found in the current frame\n  (Session info: chrome=129.0.6668.90); For documentation on this error, please visit: https://www.selenium.dev/documentation/webdriver/troubleshooting/errors#stale-element-reference-exception\nStacktrace:\n\tGetHandleVerifier [0x00007FF79700B645+29573]\n\t(No symbol) [0x00007FF796F80470]\n\t(No symbol) [0x00007FF796E3B6EA]\n\t(No symbol) [0x00007FF796E422BE]\n\t(No symbol) [0x00007FF796E44637]\n\t(No symbol) [0x00007FF796E446F0]\n\t(No symbol) [0x00007FF796E8F38F]\n\t(No symbol) [0x00007FF796E8FA6C]\n\t(No symbol) [0x00007FF796E8312C]\n\t(No symbol) [0x00007FF796EB733F]\n\t(No symbol) [0x00007FF796E82FF6]\n\t(No symbol) [0x00007FF796EB7510]\n\t(No symbol) [0x00007FF796ED86BC]\n\t(No symbol) [0x00007FF796EB70A3]\n\t(No symbol) [0x00007FF796E812DF]\n\t(No symbol) [0x00007FF796E82441]\n\tGetHandleVerifier [0x00007FF79733C58D+3375821]\n\tGetHandleVerifier [0x00007FF797387987+3684039]\n\tGetHandleVerifier [0x00007FF79737CDAB+3640043]\n\tGetHandleVerifier [0x00007FF7970CB7C6+816390]\n\t(No symbol) [0x00007FF796F8B77F]\n\t(No symbol) [0x00007FF796F875A4]\n\t(No symbol) [0x00007FF796F87740]\n\t(No symbol) [0x00007FF796F7659F]\n\tBaseThreadInitThunk [0x00007FF83790257D+29]\n\tRtlUserThreadStart [0x00007FF83912AF08+40]\n"
     ]
    }
   ],
   "source": [
    "for element in div_elements:\n",
    "    try:\n",
    "        nombre_element = element.find_element(By.CLASS_NAME, 'html-span')\n",
    "        texto_element = element.find_element(By.ID, ':r1pk')\n",
    "        fecha_element = element.find_element(By.ID, 'ripj')\n",
    "        \n",
    "        # Convertir el texto a minúsculas para hacer la comparación sin distinción entre mayúsculas y minúsculas\n",
    "        texto_lower = texto_element.text.lower()\n",
    "        \n",
    "        # Verificar si alguna de las palabras de filtro está en el texto\n",
    "        if any(palabra in texto_lower for palabra in palabras_filtro):\n",
    "            data.append({\n",
    "                'Nombre': nombre_element.text,\n",
    "                'Texto de la publicación': texto_element.text,\n",
    "                'Fecha': fecha_element.text\n",
    "            })\n",
    "    except NoSuchElementException:\n",
    "        pass"
   ]
  },
  {
   "cell_type": "code",
   "execution_count": null,
   "id": "830c52b4-1ed4-45a2-b21d-1d8af69f6287",
   "metadata": {},
   "outputs": [],
   "source": []
  }
 ],
 "metadata": {
  "kernelspec": {
   "display_name": "Python 3 (ipykernel)",
   "language": "python",
   "name": "python3"
  },
  "language_info": {
   "codemirror_mode": {
    "name": "ipython",
    "version": 3
   },
   "file_extension": ".py",
   "mimetype": "text/x-python",
   "name": "python",
   "nbconvert_exporter": "python",
   "pygments_lexer": "ipython3",
   "version": "3.12.4"
  }
 },
 "nbformat": 4,
 "nbformat_minor": 5
}
